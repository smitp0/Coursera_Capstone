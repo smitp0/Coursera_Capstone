{
    "cells": [
        {
            "cell_type": "markdown",
            "metadata": {
                "collapsed": true
            },
            "source": "# Scraping & Creating the Dataset\n"
        },
        {
            "cell_type": "markdown",
            "metadata": {},
            "source": "## This initial notebook is used to scrape all postal Codes in Canada starting with the letter 'M'"
        },
        {
            "cell_type": "markdown",
            "metadata": {},
            "source": "#### Import all necessary libraries"
        },
        {
            "cell_type": "code",
            "execution_count": 1,
            "metadata": {},
            "outputs": [],
            "source": "from bs4 import BeautifulSoup\nimport pandas as pd\nimport requests"
        },
        {
            "cell_type": "markdown",
            "metadata": {},
            "source": "#### Scrape Data from Wikipedia and create a dataframe with it"
        },
        {
            "cell_type": "code",
            "execution_count": 5,
            "metadata": {},
            "outputs": [],
            "source": "url = 'https://en.wikipedia.org/wiki/List_of_postal_codes_of_Canada:_M' #pull webpage from Wikipedia\nresponse = requests.get(url)\nhtml_data = response.text # convert HTML data using BeautifulSoup library\nsoup = BeautifulSoup(html_data, 'html.parser')\nwikipedia_table = soup.find('table')\ntable_contents = [] #create empty table and populate from wikipedia table\nfor row in wikipedia_table.findAll('td'):\n    cell = {}\n    if row.span.text=='Not assigned':\n        pass\n    else:\n        cell['PostalCode'] = row.p.text[:3]\n        cell['Borough'] = (row.span.text).split('(')[0]\n        cell['Neighborhood'] = (((((row.span.text).split('(')[1]).strip(')')).replace(' /',',')).replace(')',' ')).strip(' ')\n        table_contents.append(cell)\n"
        },
        {
            "cell_type": "code",
            "execution_count": 6,
            "metadata": {},
            "outputs": [
                {
                    "name": "stdout",
                    "output_type": "stream",
                    "text": "[{'PostalCode': 'M3A', 'Borough': 'North York', 'Neighborhood': 'Parkwoods'}, {'PostalCode': 'M4A', 'Borough': 'North York', 'Neighborhood': 'Victoria Village'}, {'PostalCode': 'M5A', 'Borough': 'Downtown Toronto', 'Neighborhood': 'Regent Park, Harbourfront'}, {'PostalCode': 'M6A', 'Borough': 'North York', 'Neighborhood': 'Lawrence Manor, Lawrence Heights'}, {'PostalCode': 'M7A', 'Borough': \"Queen's Park\", 'Neighborhood': 'Ontario Provincial Government'}, {'PostalCode': 'M9A', 'Borough': 'Etobicoke', 'Neighborhood': 'Islington Avenue'}, {'PostalCode': 'M1B', 'Borough': 'Scarborough', 'Neighborhood': 'Malvern, Rouge'}, {'PostalCode': 'M3B', 'Borough': 'North York', 'Neighborhood': 'Don Mills North'}, {'PostalCode': 'M4B', 'Borough': 'East York', 'Neighborhood': 'Parkview Hill, Woodbine Gardens'}, {'PostalCode': 'M5B', 'Borough': 'Downtown Toronto', 'Neighborhood': 'Garden District, Ryerson'}, {'PostalCode': 'M6B', 'Borough': 'North York', 'Neighborhood': 'Glencairn'}, {'PostalCode': 'M9B', 'Borough': 'Etobicoke', 'Neighborhood': 'West Deane Park, Princess Gardens, Martin Grove, Islington, Cloverdale'}, {'PostalCode': 'M1C', 'Borough': 'Scarborough', 'Neighborhood': 'Rouge Hill, Port Union, Highland Creek'}, {'PostalCode': 'M3C', 'Borough': 'North York', 'Neighborhood': 'Don Mills South'}, {'PostalCode': 'M4C', 'Borough': 'East York', 'Neighborhood': 'Woodbine Heights'}, {'PostalCode': 'M5C', 'Borough': 'Downtown Toronto', 'Neighborhood': 'St. James Town'}, {'PostalCode': 'M6C', 'Borough': 'York', 'Neighborhood': 'Humewood-Cedarvale'}, {'PostalCode': 'M9C', 'Borough': 'Etobicoke', 'Neighborhood': 'Eringate, Bloordale Gardens, Old Burnhamthorpe, Markland Wood'}, {'PostalCode': 'M1E', 'Borough': 'Scarborough', 'Neighborhood': 'Guildwood, Morningside, West Hill'}, {'PostalCode': 'M4E', 'Borough': 'East Toronto', 'Neighborhood': 'The Beaches'}, {'PostalCode': 'M5E', 'Borough': 'Downtown Toronto', 'Neighborhood': 'Berczy Park'}, {'PostalCode': 'M6E', 'Borough': 'York', 'Neighborhood': 'Caledonia-Fairbanks'}, {'PostalCode': 'M1G', 'Borough': 'Scarborough', 'Neighborhood': 'Woburn'}, {'PostalCode': 'M4G', 'Borough': 'East York', 'Neighborhood': 'Leaside'}, {'PostalCode': 'M5G', 'Borough': 'Downtown Toronto', 'Neighborhood': 'Central Bay Street'}, {'PostalCode': 'M6G', 'Borough': 'Downtown Toronto', 'Neighborhood': 'Christie'}, {'PostalCode': 'M1H', 'Borough': 'Scarborough', 'Neighborhood': 'Cedarbrae'}, {'PostalCode': 'M2H', 'Borough': 'North York', 'Neighborhood': 'Hillcrest Village'}, {'PostalCode': 'M3H', 'Borough': 'North York', 'Neighborhood': 'Bathurst Manor, Wilson Heights, Downsview North'}, {'PostalCode': 'M4H', 'Borough': 'East York', 'Neighborhood': 'Thorncliffe Park'}, {'PostalCode': 'M5H', 'Borough': 'Downtown Toronto', 'Neighborhood': 'Richmond, Adelaide, King'}, {'PostalCode': 'M6H', 'Borough': 'West Toronto', 'Neighborhood': 'Dufferin, Dovercourt Village'}, {'PostalCode': 'M1J', 'Borough': 'Scarborough', 'Neighborhood': 'Scarborough Village'}, {'PostalCode': 'M2J', 'Borough': 'North York', 'Neighborhood': 'Fairview, Henry Farm, Oriole'}, {'PostalCode': 'M3J', 'Borough': 'North York', 'Neighborhood': 'Northwood Park, York University'}, {'PostalCode': 'M4J', 'Borough': 'East YorkEast Toronto', 'Neighborhood': 'The Danforth  East'}, {'PostalCode': 'M5J', 'Borough': 'Downtown Toronto', 'Neighborhood': 'Harbourfront East, Union Station, Toronto Islands'}, {'PostalCode': 'M6J', 'Borough': 'West Toronto', 'Neighborhood': 'Little Portugal, Trinity'}, {'PostalCode': 'M1K', 'Borough': 'Scarborough', 'Neighborhood': 'Kennedy Park, Ionview, East Birchmount Park'}, {'PostalCode': 'M2K', 'Borough': 'North York', 'Neighborhood': 'Bayview Village'}, {'PostalCode': 'M3K', 'Borough': 'North York', 'Neighborhood': 'Downsview East'}, {'PostalCode': 'M4K', 'Borough': 'East Toronto', 'Neighborhood': 'The Danforth West, Riverdale'}, {'PostalCode': 'M5K', 'Borough': 'Downtown Toronto', 'Neighborhood': 'Toronto Dominion Centre, Design Exchange'}, {'PostalCode': 'M6K', 'Borough': 'West Toronto', 'Neighborhood': 'Brockton, Parkdale Village, Exhibition Place'}, {'PostalCode': 'M1L', 'Borough': 'Scarborough', 'Neighborhood': 'Golden Mile, Clairlea, Oakridge'}, {'PostalCode': 'M2L', 'Borough': 'North York', 'Neighborhood': 'York Mills, Silver Hills'}, {'PostalCode': 'M3L', 'Borough': 'North York', 'Neighborhood': 'Downsview West'}, {'PostalCode': 'M4L', 'Borough': 'East Toronto', 'Neighborhood': 'India Bazaar, The Beaches West'}, {'PostalCode': 'M5L', 'Borough': 'Downtown Toronto', 'Neighborhood': 'Commerce Court, Victoria Hotel'}, {'PostalCode': 'M6L', 'Borough': 'North York', 'Neighborhood': 'North Park, Maple Leaf Park, Upwood Park'}, {'PostalCode': 'M9L', 'Borough': 'North York', 'Neighborhood': 'Humber Summit'}, {'PostalCode': 'M1M', 'Borough': 'Scarborough', 'Neighborhood': 'Cliffside, Cliffcrest, Scarborough Village West'}, {'PostalCode': 'M2M', 'Borough': 'North York', 'Neighborhood': 'Willowdale, Newtonbrook'}, {'PostalCode': 'M3M', 'Borough': 'North York', 'Neighborhood': 'Downsview Central'}, {'PostalCode': 'M4M', 'Borough': 'East Toronto', 'Neighborhood': 'Studio District'}, {'PostalCode': 'M5M', 'Borough': 'North York', 'Neighborhood': 'Bedford Park, Lawrence Manor East'}, {'PostalCode': 'M6M', 'Borough': 'York', 'Neighborhood': 'Del Ray, Mount Dennis, Keelsdale and Silverthorn'}, {'PostalCode': 'M9M', 'Borough': 'North York', 'Neighborhood': 'Humberlea, Emery'}, {'PostalCode': 'M1N', 'Borough': 'Scarborough', 'Neighborhood': 'Birch Cliff, Cliffside West'}, {'PostalCode': 'M2N', 'Borough': 'North York', 'Neighborhood': 'Willowdale South'}, {'PostalCode': 'M3N', 'Borough': 'North York', 'Neighborhood': 'Downsview Northwest'}, {'PostalCode': 'M4N', 'Borough': 'Central Toronto', 'Neighborhood': 'Lawrence Park'}, {'PostalCode': 'M5N', 'Borough': 'Central Toronto', 'Neighborhood': 'Roselawn'}, {'PostalCode': 'M6N', 'Borough': 'York', 'Neighborhood': 'Runnymede, The Junction North'}, {'PostalCode': 'M9N', 'Borough': 'York', 'Neighborhood': 'Weston'}, {'PostalCode': 'M1P', 'Borough': 'Scarborough', 'Neighborhood': 'Dorset Park, Wexford Heights, Scarborough Town Centre'}, {'PostalCode': 'M2P', 'Borough': 'North York', 'Neighborhood': 'York Mills West'}, {'PostalCode': 'M4P', 'Borough': 'Central Toronto', 'Neighborhood': 'Davisville North'}, {'PostalCode': 'M5P', 'Borough': 'Central Toronto', 'Neighborhood': 'Forest Hill North & West'}, {'PostalCode': 'M6P', 'Borough': 'West Toronto', 'Neighborhood': 'High Park, The Junction South'}, {'PostalCode': 'M9P', 'Borough': 'Etobicoke', 'Neighborhood': 'Westmount'}, {'PostalCode': 'M1R', 'Borough': 'Scarborough', 'Neighborhood': 'Wexford, Maryvale'}, {'PostalCode': 'M2R', 'Borough': 'North York', 'Neighborhood': 'Willowdale West'}, {'PostalCode': 'M4R', 'Borough': 'Central Toronto', 'Neighborhood': 'North Toronto West'}, {'PostalCode': 'M5R', 'Borough': 'Central Toronto', 'Neighborhood': 'The Annex, North Midtown, Yorkville'}, {'PostalCode': 'M6R', 'Borough': 'West Toronto', 'Neighborhood': 'Parkdale, Roncesvalles'}, {'PostalCode': 'M7R', 'Borough': 'MississaugaCanada Post Gateway Processing Centre', 'Neighborhood': 'Enclave of L4W'}, {'PostalCode': 'M9R', 'Borough': 'Etobicoke', 'Neighborhood': 'Kingsview Village, St. Phillips, Martin Grove Gardens, Richview Gardens'}, {'PostalCode': 'M1S', 'Borough': 'Scarborough', 'Neighborhood': 'Agincourt'}, {'PostalCode': 'M4S', 'Borough': 'Central Toronto', 'Neighborhood': 'Davisville'}, {'PostalCode': 'M5S', 'Borough': 'Downtown Toronto', 'Neighborhood': 'University of Toronto, Harbord'}, {'PostalCode': 'M6S', 'Borough': 'West Toronto', 'Neighborhood': 'Runnymede, Swansea'}, {'PostalCode': 'M1T', 'Borough': 'Scarborough', 'Neighborhood': \"Clarks Corners, Tam O'Shanter, Sullivan\"}, {'PostalCode': 'M4T', 'Borough': 'Central Toronto', 'Neighborhood': 'Moore Park, Summerhill East'}, {'PostalCode': 'M5T', 'Borough': 'Downtown Toronto', 'Neighborhood': 'Kensington Market, Chinatown, Grange Park'}, {'PostalCode': 'M1V', 'Borough': 'Scarborough', 'Neighborhood': \"Milliken, Agincourt North, Steeles East, L'Amoreaux East\"}, {'PostalCode': 'M4V', 'Borough': 'Central Toronto', 'Neighborhood': 'Summerhill West, Rathnelly, South Hill, Forest Hill SE, Deer Park'}, {'PostalCode': 'M5V', 'Borough': 'Downtown Toronto', 'Neighborhood': 'CN Tower, King and Spadina, Railway Lands, Harbourfront West, Bathurst Quay, South Niagara, Island airport'}, {'PostalCode': 'M8V', 'Borough': 'Etobicoke', 'Neighborhood': 'New Toronto, Mimico South, Humber Bay Shores'}, {'PostalCode': 'M9V', 'Borough': 'Etobicoke', 'Neighborhood': 'South Steeles, Silverstone, Humbergate, Jamestown, Mount Olive, Beaumond Heights, Thistletown, Albion Gardens'}, {'PostalCode': 'M1W', 'Borough': 'Scarborough', 'Neighborhood': \"Steeles West, L'Amoreaux West\"}, {'PostalCode': 'M4W', 'Borough': 'Downtown Toronto', 'Neighborhood': 'Rosedale'}, {'PostalCode': 'M5W', 'Borough': 'Downtown TorontoStn A PO Boxes25 The Esplanade', 'Neighborhood': 'Enclave of M5E'}, {'PostalCode': 'M8W', 'Borough': 'Etobicoke', 'Neighborhood': 'Alderwood, Long Branch'}, {'PostalCode': 'M9W', 'Borough': 'EtobicokeNorthwest', 'Neighborhood': 'Clairville, Humberwood, Woodbine Downs, West Humber, Kipling Heights, Rexdale, Elms, Tandridge, Old Rexdale'}, {'PostalCode': 'M1X', 'Borough': 'Scarborough', 'Neighborhood': 'Upper Rouge'}, {'PostalCode': 'M4X', 'Borough': 'Downtown Toronto', 'Neighborhood': 'St. James Town, Cabbagetown'}, {'PostalCode': 'M5X', 'Borough': 'Downtown Toronto', 'Neighborhood': 'First Canadian Place, Underground city'}, {'PostalCode': 'M8X', 'Borough': 'Etobicoke', 'Neighborhood': 'The Kingsway, Montgomery Road, Old Mill North'}, {'PostalCode': 'M4Y', 'Borough': 'Downtown Toronto', 'Neighborhood': 'Church and Wellesley'}, {'PostalCode': 'M7Y', 'Borough': 'East TorontoBusiness reply mail Processing Centre969 Eastern', 'Neighborhood': 'Enclave of M4L'}, {'PostalCode': 'M8Y', 'Borough': 'Etobicoke', 'Neighborhood': \"Old Mill South, King's Mill Park, Sunnylea, Humber Bay, Mimico NE, The Queensway East, Royal York South East, Kingsway Park South East\"}, {'PostalCode': 'M8Z', 'Borough': 'Etobicoke', 'Neighborhood': 'Mimico NW, The Queensway West, South of Bloor, Kingsway Park South West, Royal York South West'}]\n"
                }
            ],
            "source": "print(table_contents)"
        },
        {
            "cell_type": "code",
            "execution_count": 8,
            "metadata": {},
            "outputs": [
                {
                    "data": {
                        "text/html": "<div>\n<style scoped>\n    .dataframe tbody tr th:only-of-type {\n        vertical-align: middle;\n    }\n\n    .dataframe tbody tr th {\n        vertical-align: top;\n    }\n\n    .dataframe thead th {\n        text-align: right;\n    }\n</style>\n<table border=\"1\" class=\"dataframe\">\n  <thead>\n    <tr style=\"text-align: right;\">\n      <th></th>\n      <th>PostalCode</th>\n      <th>Borough</th>\n      <th>Neighborhood</th>\n    </tr>\n  </thead>\n  <tbody>\n    <tr>\n      <th>0</th>\n      <td>M3A</td>\n      <td>North York</td>\n      <td>Parkwoods</td>\n    </tr>\n    <tr>\n      <th>1</th>\n      <td>M4A</td>\n      <td>North York</td>\n      <td>Victoria Village</td>\n    </tr>\n    <tr>\n      <th>2</th>\n      <td>M5A</td>\n      <td>Downtown Toronto</td>\n      <td>Regent Park, Harbourfront</td>\n    </tr>\n    <tr>\n      <th>3</th>\n      <td>M6A</td>\n      <td>North York</td>\n      <td>Lawrence Manor, Lawrence Heights</td>\n    </tr>\n    <tr>\n      <th>4</th>\n      <td>M7A</td>\n      <td>Queen's Park</td>\n      <td>Ontario Provincial Government</td>\n    </tr>\n  </tbody>\n</table>\n</div>",
                        "text/plain": "  PostalCode           Borough                      Neighborhood\n0        M3A        North York                         Parkwoods\n1        M4A        North York                  Victoria Village\n2        M5A  Downtown Toronto         Regent Park, Harbourfront\n3        M6A        North York  Lawrence Manor, Lawrence Heights\n4        M7A      Queen's Park     Ontario Provincial Government"
                    },
                    "execution_count": 8,
                    "metadata": {},
                    "output_type": "execute_result"
                }
            ],
            "source": "TO_data=pd.DataFrame(table_contents) #create dataframe of data with correct column names\nTO_data.head()"
        },
        {
            "cell_type": "code",
            "execution_count": 10,
            "metadata": {},
            "outputs": [
                {
                    "data": {
                        "text/plain": "(103, 3)"
                    },
                    "execution_count": 10,
                    "metadata": {},
                    "output_type": "execute_result"
                }
            ],
            "source": "TO_data.shape #get shape of data to understand how many unique rows there are (103)"
        },
        {
            "cell_type": "code",
            "execution_count": 11,
            "metadata": {},
            "outputs": [],
            "source": "TO_data.to_csv('Toronto_Neighborhoods.csv') #save to a .csv file"
        }
    ],
    "metadata": {
        "kernelspec": {
            "display_name": "Python 3.7",
            "language": "python",
            "name": "python3"
        },
        "language_info": {
            "codemirror_mode": {
                "name": "ipython",
                "version": 3
            },
            "file_extension": ".py",
            "mimetype": "text/x-python",
            "name": "python",
            "nbconvert_exporter": "python",
            "pygments_lexer": "ipython3",
            "version": "3.7.10"
        }
    },
    "nbformat": 4,
    "nbformat_minor": 1
}